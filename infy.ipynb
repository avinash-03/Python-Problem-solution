{
 "cells": [
  {
   "cell_type": "code",
   "execution_count": 1,
   "metadata": {},
   "outputs": [],
   "source": [
    "#avi, [06-02-2022 10:12 AM]\n",
    "class Customer:\n",
    "    def __init__ (self, cust_name, products_list): \n",
    "        self.cust_name = cust_name\n",
    "        self.products_list = products_list\n",
    "\n",
    "    def purchase_products (self):\n",
    "        total_cost = 0\n",
    "        for product in self.products_list:\n",
    "            price = product.identify_cost ()\n",
    "            if price != -1:\n",
    "                 total_cost += price\n",
    "        print (total_cost)\n",
    "\n",
    "\n",
    "\n",
    "class Product:\n",
    "    product_list = ['Mobile Phone', 'Refrigerator', 'Laptop', 'Water Heater'] \n",
    "    price_list = [5000, 30000, 25000, 12000] \n",
    "    def __init__(self,product_name):\n",
    "        self.product_name = product_name\n",
    "\n",
    "    def identify_cost(self):\n",
    "        for index in range (len (Product.product_list)):\n",
    "             if Product.product_list[index]== self.product_name:\n",
    "                    cost=Product.price_list [index]\n",
    "                    return cost\n",
    "        return -1\n",
    "\n",
    "prod_refl = Product('Laptop') \n",
    "prod_ref2 = Product('Mobile Phone')\n",
    "prod_ref3= Product('Table')"
   ]
  },
  {
   "cell_type": "code",
   "execution_count": 2,
   "metadata": {},
   "outputs": [
    {
     "name": "stdout",
     "output_type": "stream",
     "text": [
      "30000\n"
     ]
    }
   ],
   "source": [
    "Customer(\"jack\", [prod_refl, prod_ref2, prod_ref3]).purchase_products ()"
   ]
  },
  {
   "cell_type": "code",
   "execution_count": 8,
   "metadata": {},
   "outputs": [
    {
     "data": {
      "text/plain": [
       "[<__main__.Product at 0x1d90bc1e280>,\n",
       " <__main__.Product at 0x1d90bc1e2e0>,\n",
       " <__main__.Product at 0x1d90bc1e310>]"
      ]
     },
     "execution_count": 8,
     "metadata": {},
     "output_type": "execute_result"
    }
   ],
   "source": []
  },
  {
   "cell_type": "code",
   "execution_count": 4,
   "metadata": {},
   "outputs": [
    {
     "name": "stdout",
     "output_type": "stream",
     "text": [
      "30000\n"
     ]
    }
   ],
   "source": [
    "cust = Customer(\"jack\", [prod_refl, prod_ref2, prod_ref3])\n",
    "cust.purchase_products ()"
   ]
  },
  {
   "cell_type": "code",
   "execution_count": 13,
   "metadata": {},
   "outputs": [
    {
     "data": {
      "text/plain": [
       "60"
      ]
     },
     "execution_count": 13,
     "metadata": {},
     "output_type": "execute_result"
    }
   ],
   "source": [
    "# q 20\n",
    "class Parent:\n",
    "    def __init__(self,num1,num2):\n",
    "        self.num1 = num1\n",
    "        self.num2 = num2    \n",
    "    def function1(self,num1):\n",
    "        return self.num1 + num1//2\n",
    "class child(Parent):\n",
    "    def function2(self,num2):\n",
    "        self.num2=num2+10\n",
    "        return self.function1(self.num2)\n",
    "class Grandchild(child):\n",
    "    def __init__(self,num1,num2):\n",
    "        super().__init__(num1,num2)\n",
    "        self.__num3=None\n",
    "    def function2(self):\n",
    "        self.__num3=super().function2(self.num1)+self.function1(self.num2)\n",
    "        return super().function2(self.__num3)\n",
    "\n",
    "grandchild_ref=Grandchild(20,10)\n",
    "grandchild_ref.function2()"
   ]
  },
  {
   "cell_type": "code",
   "execution_count": 15,
   "metadata": {},
   "outputs": [
    {
     "name": "stdout",
     "output_type": "stream",
     "text": [
      "[20, 76, 87, 47, 16, 95]\n",
      "[20, 76, 47, 16, 87, 95]\n",
      "[20, 47, 16, 76, 87, 95]\n",
      "[20, 16, 47, 76, 87, 95]\n",
      "[16, 20, 47, 76, 87, 95]\n",
      "[16, 20, 47, 76, 87, 95]\n"
     ]
    }
   ],
   "source": [
    "# q19\n",
    "def bubble_sort(input_list):\n",
    "    num = len(input_list)\n",
    "    for iteration in range(num):\n",
    "        for index1 in range(0,num-iteration-1):\n",
    "            if input_list[index1]>input_list[index1+1]:\n",
    "                temp = input_list[index1]\n",
    "                input_list[index1] = input_list[index1+1]\n",
    "                input_list[index1+1] = temp\n",
    "        print(input_list)\n",
    "\n",
    "input_list = [76,20,95,87,47,16]\n",
    "bubble_sort(input_list)"
   ]
  },
  {
   "cell_type": "code",
   "execution_count": 33,
   "metadata": {},
   "outputs": [
    {
     "data": {
      "text/plain": [
       "[20, 76, 95, 87, 47, 16]"
      ]
     },
     "execution_count": 33,
     "metadata": {},
     "output_type": "execute_result"
    }
   ],
   "source": [
    "input_list"
   ]
  },
  {
   "cell_type": "code",
   "execution_count": null,
   "metadata": {},
   "outputs": [],
   "source": [
    "if str1.isalnum() or \"+\" in str1 or \"/\" in str1:\n",
    "    "
   ]
  },
  {
   "cell_type": "code",
   "execution_count": 114,
   "metadata": {},
   "outputs": [
    {
     "data": {
      "text/plain": [
       "(43, 'Z')"
      ]
     },
     "execution_count": 114,
     "metadata": {},
     "output_type": "execute_result"
    }
   ],
   "source": [
    "ord('+'),  chr(25+65)"
   ]
  },
  {
   "cell_type": "code",
   "execution_count": 70,
   "metadata": {},
   "outputs": [
    {
     "data": {
      "text/plain": [
       "'Z'"
      ]
     },
     "execution_count": 70,
     "metadata": {},
     "output_type": "execute_result"
    }
   ],
   "source": []
  },
  {
   "cell_type": "code",
   "execution_count": 62,
   "metadata": {},
   "outputs": [
    {
     "name": "stdout",
     "output_type": "stream",
     "text": [
      "['011000', '010111', '011001', '101001', '011011', '100110', '000101', '101000', '001100', '010011', '001000', '110011', '001010', '11']\n"
     ]
    }
   ],
   "source": [
    "a_string=res\n",
    "split_strings = []\n",
    "n  = 6\n",
    "for index in range(0, len(a_string), n):\n",
    "    split_strings.append(a_string[index : index + n])\n",
    "\n",
    "print(split_strings)"
   ]
  },
  {
   "cell_type": "code",
   "execution_count": 71,
   "metadata": {},
   "outputs": [
    {
     "data": {
      "text/plain": [
       "'01000001010000100100001100110001001100100011001100101011'"
      ]
     },
     "execution_count": 71,
     "metadata": {},
     "output_type": "execute_result"
    }
   ],
   "source": [
    "str1 = \"ABC123+\"\n",
    "res = ''.join(format(ord(i), '08b') for i in str1)\n",
    "res\n"
   ]
  },
  {
   "cell_type": "code",
   "execution_count": 72,
   "metadata": {},
   "outputs": [
    {
     "name": "stdout",
     "output_type": "stream",
     "text": [
      "['010000', '010100', '001001', '000011', '001100', '010011', '001000', '110011', '001010', '11']\n"
     ]
    }
   ],
   "source": [
    "a_string=res\n",
    "split_strings = []\n",
    "n  = 6\n",
    "for index in range(0, len(a_string), n):\n",
    "    split_strings.append(a_string[index : index + n])\n",
    "\n",
    "print(split_strings)"
   ]
  },
  {
   "cell_type": "code",
   "execution_count": 78,
   "metadata": {},
   "outputs": [
    {
     "data": {
      "text/plain": [
       "'Q'"
      ]
     },
     "execution_count": 78,
     "metadata": {},
     "output_type": "execute_result"
    }
   ],
   "source": [
    "chr(int(split_strings[0],2)+65)"
   ]
  },
  {
   "cell_type": "code",
   "execution_count": 97,
   "metadata": {},
   "outputs": [
    {
     "data": {
      "text/plain": [
       "'01000001010000100100001100110001001100100011001100101011'"
      ]
     },
     "execution_count": 97,
     "metadata": {},
     "output_type": "execute_result"
    }
   ],
   "source": [
    "if str1.isalnum() or \"+\" in str1 or \"/\" in str1:\n",
    "    res = ''.join(format(ord(i), '08b') for i in str1)\n",
    "\n",
    "res"
   ]
  },
  {
   "cell_type": "code",
   "execution_count": 112,
   "metadata": {},
   "outputs": [
    {
     "name": "stdout",
     "output_type": "stream",
     "text": [
      "QUJDMTIzKw\n"
     ]
    }
   ],
   "source": [
    "# string convert to binary and then convert devide each 6 bit to ascii\n",
    "def string_to_ascii(str1):\n",
    "    res = ''.join(format(ord(i), '08b') for i in str1)\n",
    "    split_string = [res[i:i+n] for i in range(0, len(res), n)]\n",
    "    split_string[-1]=split_string[-1]+\"0\"*(6-len(split_string[-1]))\n",
    "    split_string\n",
    "    return split_string\n",
    "\n",
    "\n",
    "# hex to string\n",
    "def num_to_string(split_string):\n",
    "    out_string=\"\"\n",
    "    for i in split_string:\n",
    "        num= int(i,2)\n",
    "\n",
    "        if num<=25:\n",
    "                out_string+=chr(num+65)\n",
    "        elif num <=51:\n",
    "                out_string+=chr(num+71)\n",
    "        elif num ==62:\n",
    "                out_string+=\"+\"\n",
    "        elif num ==63:\n",
    "            out_string+=\"/\"\n",
    "        else :\n",
    "            out_string+=chr(num-4)\n",
    "    return out_string\n",
    "\n",
    "\n",
    "# string validattion alphanumeric and contain + and /\n",
    "def string_valid(str1):\n",
    "    if str1.isalnum() or \"+\" in str1 or \"/\" in str1:\n",
    "        return True\n",
    "    else:\n",
    "        return False\n",
    "\n",
    "input_string = \"ABC123+\"\n",
    "if string_valid(input_string)==True:\n",
    "    split_string=string_to_ascii(input_string)\n",
    "    out_string=num_to_string(split_string)\n",
    "    print(out_string)\n",
    "else:\n",
    "    print(-1)\n"
   ]
  },
  {
   "cell_type": "code",
   "execution_count": 110,
   "metadata": {},
   "outputs": [
    {
     "data": {
      "text/plain": [
       "'\\x10\\x14\\t\\x03\\x0c\\x13\\x083\\n0'"
      ]
     },
     "execution_count": 110,
     "metadata": {},
     "output_type": "execute_result"
    }
   ],
   "source": []
  },
  {
   "cell_type": "code",
   "execution_count": 103,
   "metadata": {},
   "outputs": [
    {
     "data": {
      "text/plain": [
       "['010000',\n",
       " '010100',\n",
       " '001001',\n",
       " '000011',\n",
       " '001100',\n",
       " '010011',\n",
       " '001000',\n",
       " '110011',\n",
       " '001010',\n",
       " '110000']"
      ]
     },
     "execution_count": 103,
     "metadata": {},
     "output_type": "execute_result"
    }
   ],
   "source": []
  },
  {
   "cell_type": "code",
   "execution_count": 84,
   "metadata": {},
   "outputs": [
    {
     "data": {
      "text/plain": [
       "'0'"
      ]
     },
     "execution_count": 84,
     "metadata": {},
     "output_type": "execute_result"
    }
   ],
   "source": []
  },
  {
   "cell_type": "code",
   "execution_count": null,
   "metadata": {},
   "outputs": [],
   "source": []
  }
 ],
 "metadata": {
  "interpreter": {
   "hash": "b3ba2566441a7c06988d0923437866b63cedc61552a5af99d1f4fb67d367b25f"
  },
  "kernelspec": {
   "display_name": "Python 3.8.5 ('base')",
   "language": "python",
   "name": "python3"
  },
  "language_info": {
   "codemirror_mode": {
    "name": "ipython",
    "version": 3
   },
   "file_extension": ".py",
   "mimetype": "text/x-python",
   "name": "python",
   "nbconvert_exporter": "python",
   "pygments_lexer": "ipython3",
   "version": "3.8.5"
  },
  "orig_nbformat": 4
 },
 "nbformat": 4,
 "nbformat_minor": 2
}
