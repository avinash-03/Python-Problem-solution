{
 "cells": [
  {
   "cell_type": "code",
   "execution_count": null,
   "metadata": {},
   "outputs": [],
   "source": [
    "#Wipro coding question"
   ]
  },
  {
   "cell_type": "code",
   "execution_count": 6,
   "metadata": {},
   "outputs": [],
   "source": [
    "str1 = 'abcdfjerje'\n",
    "str2 = \"abcdfjerj\"\n",
    "\n",
    "for i in str1:\n",
    "    if i not in str2:\n",
    "        print(i)\n"
   ]
  },
  {
   "cell_type": "code",
   "execution_count": 16,
   "metadata": {},
   "outputs": [
    {
     "name": "stdout",
     "output_type": "stream",
     "text": [
      "c\n",
      "b\n",
      "d\n",
      "d\n"
     ]
    }
   ],
   "source": [
    "# Python3 program to find extra character\n",
    "# in one string\n",
    "def findExtraCharacter(strA, strB):\n",
    "\n",
    "\t# store string values in map\n",
    "\tm1 = {}\n",
    "\n",
    "\t# store second string in map\n",
    "\t# with frequency\n",
    "\tfor i in strB:\n",
    "\t\tif i in m1:\n",
    "\t\t\tm1[i] += 1\n",
    "\t\telse:\n",
    "\t\t\tm1[i] = 1\n",
    "\n",
    "\t# store first string in map\n",
    "\t# with frequency\n",
    "\tfor i in strA:\n",
    "\t\tm1[i] -= 1\n",
    "\n",
    "\tfor h1 in m1:\n",
    "\t\tprint(h1)\n",
    "\n",
    "\t\t# if the frequency is 1 then this\n",
    "\t\t# character is which is added extra\n",
    "\t\tif m1[h1] == 1:\n",
    "\t\t\treturn h1\n",
    "\n",
    "# Driver Code\n",
    "if __name__ == \"__main__\":\n",
    "\n",
    "\t# given string\n",
    "\tstrA = 'abcd'\n",
    "\tstrB = 'cbdad'\n",
    "\n",
    "\t# find Extra Character\n",
    "\tprint(findExtraCharacter(strA, strB))\n",
    "\n",
    "# This code is contributed by\n",
    "# sanjeev2552\n"
   ]
  },
  {
   "cell_type": "code",
   "execution_count": 1,
   "metadata": {},
   "outputs": [
    {
     "data": {
      "text/plain": [
       "97"
      ]
     },
     "execution_count": 1,
     "metadata": {},
     "output_type": "execute_result"
    }
   ],
   "source": [
    "ord('a')"
   ]
  },
  {
   "cell_type": "code",
   "execution_count": 18,
   "metadata": {},
   "outputs": [
    {
     "data": {
      "text/plain": [
       "122"
      ]
     },
     "execution_count": 18,
     "metadata": {},
     "output_type": "execute_result"
    }
   ],
   "source": [
    "ord('z')"
   ]
  },
  {
   "cell_type": "code",
   "execution_count": 1,
   "metadata": {},
   "outputs": [
    {
     "data": {
      "text/plain": [
       "14"
      ]
     },
     "execution_count": 1,
     "metadata": {},
     "output_type": "execute_result"
    }
   ],
   "source": [
    "l=[10,13,14]\n",
    "max(l)"
   ]
  },
  {
   "cell_type": "code",
   "execution_count": 11,
   "metadata": {},
   "outputs": [
    {
     "data": {
      "text/plain": [
       "10"
      ]
     },
     "execution_count": 11,
     "metadata": {},
     "output_type": "execute_result"
    }
   ],
   "source": [
    "min(l)"
   ]
  },
  {
   "cell_type": "code",
   "execution_count": 14,
   "metadata": {},
   "outputs": [
    {
     "name": "stdout",
     "output_type": "stream",
     "text": [
      "a 97\n",
      "A 65\n",
      "k 107\n",
      "l 108\n",
      "i 105\n",
      "P 80\n",
      "173\n"
     ]
    }
   ],
   "source": [
    "str1 = 'aAkliP'\n",
    "l1 = []\n",
    "for i in str1:\n",
    "    l1.append(ord(i))\n",
    "    print(i,ord(i))\n",
    "\n",
    "print(min(l1)+max(l1))\n"
   ]
  },
  {
   "cell_type": "code",
   "execution_count": 15,
   "metadata": {},
   "outputs": [
    {
     "name": "stdout",
     "output_type": "stream",
     "text": [
      "q 113\n",
      "w 119\n",
      "e 101\n",
      "r 114\n",
      "t 116\n",
      "y 121\n",
      "u 117\n",
      "i 105\n",
      "o 111\n",
      "p 112\n",
      "222\n"
     ]
    }
   ],
   "source": [
    "str1= 'qwertyuiop'\n",
    "l1 = []\n",
    "for i in str1:\n",
    "    l1.append(ord(i))\n",
    "    print(i,ord(i))\n",
    "\n",
    "print(min(l1)+max(l1))"
   ]
  },
  {
   "cell_type": "code",
   "execution_count": null,
   "metadata": {},
   "outputs": [],
   "source": []
  },
  {
   "cell_type": "code",
   "execution_count": null,
   "metadata": {},
   "outputs": [],
   "source": []
  },
  {
   "cell_type": "code",
   "execution_count": null,
   "metadata": {},
   "outputs": [],
   "source": []
  },
  {
   "cell_type": "code",
   "execution_count": null,
   "metadata": {},
   "outputs": [],
   "source": []
  }
 ],
 "metadata": {
  "interpreter": {
   "hash": "b3ba2566441a7c06988d0923437866b63cedc61552a5af99d1f4fb67d367b25f"
  },
  "kernelspec": {
   "display_name": "Python 3.8.5 64-bit ('base': conda)",
   "language": "python",
   "name": "python3"
  },
  "language_info": {
   "codemirror_mode": {
    "name": "ipython",
    "version": 3
   },
   "file_extension": ".py",
   "mimetype": "text/x-python",
   "name": "python",
   "nbconvert_exporter": "python",
   "pygments_lexer": "ipython3",
   "version": "3.9.7"
  },
  "orig_nbformat": 4
 },
 "nbformat": 4,
 "nbformat_minor": 2
}
