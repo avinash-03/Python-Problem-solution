{
 "cells": [
  {
   "cell_type": "markdown",
   "metadata": {},
   "source": [
    "# Leetcode Problem Solution\n"
   ]
  },
  {
   "cell_type": "markdown",
   "metadata": {},
   "source": [
    "#### 1. Two sum\n",
    "\n",
    "Given an array of integers nums and an integer target, return indices of the two numbers such that they add up to target.\n",
    "\n",
    "You may assume that each input would have exactly one solution, and you may not use the same element twice.\n",
    "\n",
    "- `input:` nums = [2,7,11,15]  `target:`9\n",
    "- `output:` [0,1]"
   ]
  },
  {
   "cell_type": "code",
   "execution_count": 1,
   "metadata": {},
   "outputs": [
    {
     "data": {
      "text/plain": [
       "[0, 1]"
      ]
     },
     "execution_count": 1,
     "metadata": {},
     "output_type": "execute_result"
    }
   ],
   "source": [
    "# function for two sum\n",
    "'''Complexity Analysis\n",
    "Time Complexity: O(n^2)\n",
    "Space Complexity: O(1)'''\n",
    "\n",
    "def twosum(nums,target): \n",
    "    for i in range(len(nums)-1):\n",
    "        if nums[i]+nums[i+1]==target:\n",
    "            return [i,i+1]\n",
    "\n",
    "nums = [2,7,11,15]\n",
    "twosum(nums,9)\n"
   ]
  },
  {
   "cell_type": "code",
   "execution_count": 3,
   "metadata": {},
   "outputs": [
    {
     "data": {
      "text/plain": [
       "[(0, 2), (1, 7), (2, 11), (3, 15)]"
      ]
     },
     "execution_count": 3,
     "metadata": {},
     "output_type": "execute_result"
    }
   ],
   "source": [
    "nums = [2,7,11,15]\n",
    "list(enumerate(nums))"
   ]
  },
  {
   "cell_type": "code",
   "execution_count": 6,
   "metadata": {},
   "outputs": [
    {
     "data": {
      "text/plain": [
       "[3, 2]"
      ]
     },
     "execution_count": 6,
     "metadata": {},
     "output_type": "execute_result"
    }
   ],
   "source": [
    "# function for two sum\n",
    "'''Complexity Analysis\n",
    " Time Complexity: O(n)\n",
    " Space Complexity: O(n)'''\n",
    "\n",
    "def twosum(nums,target):\n",
    "\n",
    "    seen={}\n",
    "    for i,value in enumerate(nums):\n",
    "        remaining = target - nums[i]\n",
    "        if remaining in seen:\n",
    "            return [i,seen[remaining]]\n",
    "        seen[value]=i\n",
    "nums = [2,7,11,15]\n",
    "twosum(nums,26)"
   ]
  },
  {
   "cell_type": "markdown",
   "metadata": {},
   "source": [
    "#### 2. Add two number \n",
    "You are given two non-empty linked lists representing two non-negative integers. The digits are stored in reverse order, and each of their nodes contains a single digit. Add the two numbers and return the sum as a linked list. You may assume the two numbers do not contain any leading zero, except the number 0 itself."
   ]
  },
  {
   "cell_type": "markdown",
   "metadata": {},
   "source": [
    "`l1=[4,3,2]`\n",
    "`l2=[1,5,7]`\n",
    "+ 234+751 = 985          \n",
    "`output = [5,8,9]`"
   ]
  },
  {
   "cell_type": "code",
   "execution_count": 32,
   "metadata": {},
   "outputs": [],
   "source": [
    "num1=\"\".join(str(i) for i in l1[::-1])\n",
    "num2=\"\".join(str(i) for i in l2[::-1])\n",
    "num3=str(int(num1)+int(num2))\n",
    "l3 = [int(i) for i in num3[::-1]]"
   ]
  },
  {
   "cell_type": "code",
   "execution_count": 33,
   "metadata": {},
   "outputs": [
    {
     "data": {
      "text/plain": [
       "[5, 8, 9]"
      ]
     },
     "execution_count": 33,
     "metadata": {},
     "output_type": "execute_result"
    }
   ],
   "source": [
    "def addTwoNumbers(self, l1, l2):\n",
    " \n",
    "    \n",
    "    strng = ''\n",
    "    str2 = ''\n",
    "    \n",
    "    while l1: # adding values of l1 into an empty string\n",
    "        strng += str(l1.val)\n",
    "        l1 = l1.next\n",
    "\n",
    "    while l2: # adding values of l2 into an empty string\n",
    "        str2 += str(l2.val)\n",
    "        l2 = l2.next\n",
    "\n",
    "    strng = strng[::-1] # reversing the string\n",
    "    str2 = str2[::-1] #reversing the string\n",
    "\n",
    "    res = 0\n",
    "\n",
    "    res = int(strng) + int(str2) # converting strings into intergers and adding them\n",
    "\n",
    "\n",
    "    res = str(res)[::-1]\n",
    "\n",
    "    head = None\n",
    "    temp = None\n",
    "    \n",
    "    for i in range(len(res)): #adding the string into LinkedList one by one\n",
    "        \n",
    "        if head is None:\n",
    "            head = ListNode(res[i])\n",
    "            temp = head\n",
    "        else:\n",
    "            \n",
    "            temp.next = ListNode(res[i])\n",
    "            temp = temp.next   \n",
    "        \n",
    "    return head\n",
    "  "
   ]
  },
  {
   "cell_type": "code",
   "execution_count": 35,
   "metadata": {},
   "outputs": [],
   "source": [
    "# sngle linked list\n",
    "# Definition for singly-linked list.\n",
    "class ListNode:\n",
    "    def __init__(self, val=0, next=None):\n",
    "        self.val = val\n",
    "        self.next = next"
   ]
  },
  {
   "cell_type": "code",
   "execution_count": 57,
   "metadata": {},
   "outputs": [
    {
     "ename": "TypeError",
     "evalue": "'ListNode' object is not callable",
     "output_type": "error",
     "traceback": [
      "\u001b[1;31m---------------------------------------------------------------------------\u001b[0m",
      "\u001b[1;31mTypeError\u001b[0m                                 Traceback (most recent call last)",
      "\u001b[1;32mC:\\Users\\AVINAS~1\\AppData\\Local\\Temp/ipykernel_15676/3272757519.py\u001b[0m in \u001b[0;36m<module>\u001b[1;34m\u001b[0m\n\u001b[0;32m      1\u001b[0m \u001b[0ml1\u001b[0m\u001b[1;33m=\u001b[0m\u001b[0mListNode\u001b[0m\u001b[1;33m(\u001b[0m\u001b[1;33m)\u001b[0m\u001b[1;33m\u001b[0m\u001b[1;33m\u001b[0m\u001b[0m\n\u001b[1;32m----> 2\u001b[1;33m \u001b[0ml1\u001b[0m\u001b[1;33m(\u001b[0m\u001b[1;36m4\u001b[0m\u001b[1;33m)\u001b[0m\u001b[1;33m\u001b[0m\u001b[1;33m\u001b[0m\u001b[0m\n\u001b[0m\u001b[0;32m      3\u001b[0m \u001b[0ml1\u001b[0m\u001b[1;33m(\u001b[0m\u001b[1;36m3\u001b[0m\u001b[1;33m)\u001b[0m\u001b[1;33m\u001b[0m\u001b[1;33m\u001b[0m\u001b[0m\n\u001b[0;32m      4\u001b[0m \u001b[0ml1\u001b[0m\u001b[1;33m(\u001b[0m\u001b[1;36m2\u001b[0m\u001b[1;33m)\u001b[0m\u001b[1;33m\u001b[0m\u001b[1;33m\u001b[0m\u001b[0m\n",
      "\u001b[1;31mTypeError\u001b[0m: 'ListNode' object is not callable"
     ]
    }
   ],
   "source": []
  },
  {
   "cell_type": "code",
   "execution_count": 66,
   "metadata": {},
   "outputs": [],
   "source": [
    "def new(res):\n",
    "    res = res[::-1]\n",
    "\n",
    "    head = None\n",
    "    temp = None\n",
    "    \n",
    "    for i in range(len(res)): #adding the string into LinkedList one by one\n",
    "        \n",
    "        if head is None:\n",
    "            print('head')\n",
    "            head = ListNode(res[i])\n",
    "            print(\"headres[]:{}\".format(res[i]))\n",
    "            print('head{}'.format(head))\n",
    "            temp = head\n",
    "            print('temp if{}'.format(temp))\n",
    "        else:\n",
    "            print('temp')\n",
    "            temp.next = ListNode(res[i])\n",
    "            print(\"tempres[i]:{}\".format(res[i]))\n",
    "            temp = temp.next   \n",
    "            print(\"temp else :{}\".format(temp))\n",
    "    return head"
   ]
  },
  {
   "cell_type": "code",
   "execution_count": 76,
   "metadata": {},
   "outputs": [
    {
     "name": "stdout",
     "output_type": "stream",
     "text": [
      "head\n",
      "headres[]:2\n",
      "head<__main__.ListNode object at 0x00000204CCCFC790>\n",
      "temp if<__main__.ListNode object at 0x00000204CCCFC790>\n",
      "temp\n",
      "tempres[i]:5\n",
      "temp else :<__main__.ListNode object at 0x00000204CCCFC130>\n",
      "temp\n",
      "tempres[i]:4\n",
      "temp else :<__main__.ListNode object at 0x00000204CCCFC100>\n"
     ]
    }
   ],
   "source": [
    "l3=new('452')"
   ]
  },
  {
   "cell_type": "code",
   "execution_count": 77,
   "metadata": {},
   "outputs": [
    {
     "data": {
      "text/plain": [
       "[2, 5, 4]"
      ]
     },
     "execution_count": 77,
     "metadata": {},
     "output_type": "execute_result"
    }
   ],
   "source": [
    "# access the element in Listnode\n",
    "list1=[]\n",
    "while l3:\n",
    "    list1.append(int(l3.val))\n",
    "    l3=l3.next\n",
    "list1"
   ]
  },
  {
   "cell_type": "code",
   "execution_count": 82,
   "metadata": {},
   "outputs": [],
   "source": [
    "# less time\n",
    "# Definition for singly-linked list.\n",
    "# class ListNode:\n",
    "#     def __init__(self, val=0, next=None):\n",
    "#         self.val = val\n",
    "#         self.next = next\n",
    "class Solution:\n",
    "    def addTwoNumbers(self, l1, l2):\n",
    "        head = current = ListNode(0)\n",
    "        carry = 0\n",
    "        \n",
    "        while l1 or l2 or carry:\n",
    "            val1 = val2 = 0\n",
    "            if l1:\n",
    "                val1 = l1.val\n",
    "                l1 = l1.next\n",
    "            if l2:\n",
    "                val2 = l2.val\n",
    "                l2 = l2.next\n",
    "            \n",
    "            carry, node_val = divmod(val1+val2+carry, 10)\n",
    "            current.next = ListNode(node_val)\n",
    "            current = current.next\n",
    "        \n",
    "        return head.next"
   ]
  },
  {
   "cell_type": "markdown",
   "metadata": {},
   "source": [
    "#### 3. Maximum Length of string\n",
    "Given a string s, find the length of the longest substring without repeating characters."
   ]
  },
  {
   "cell_type": "code",
   "execution_count": 22,
   "metadata": {},
   "outputs": [],
   "source": [
    "\n",
    "def lengthOfLongestSubstring( s: str) -> int:\n",
    "    start=mresult=0\n",
    "    store={}\n",
    "    for i in range(len(s)):\n",
    "        if s[i] not in store or store[s[i]]<start:\n",
    "            result=i-start+1\n",
    "            mresult=max(result,mresult)\n",
    "        else:\n",
    "            start=store[s[i]]+1\n",
    "        store[s[i]]=i\n",
    "    return mresult"
   ]
  },
  {
   "cell_type": "code",
   "execution_count": 23,
   "metadata": {},
   "outputs": [
    {
     "data": {
      "text/plain": [
       "3"
      ]
     },
     "execution_count": 23,
     "metadata": {},
     "output_type": "execute_result"
    }
   ],
   "source": [
    "str1='abcabcab'\n",
    "# ans : abc mens 3\n",
    "lengthOfLongestSubstring(str1)"
   ]
  },
  {
   "cell_type": "code",
   "execution_count": 20,
   "metadata": {},
   "outputs": [
    {
     "name": "stdout",
     "output_type": "stream",
     "text": [
      "if 0\n",
      "{'a': 0}\n",
      "if 1\n",
      "{'a': 0, 'b': 1}\n",
      "if 2\n",
      "{'a': 0, 'b': 1, 'c': 2}\n",
      "else 1 3\n",
      "{'a': 0, 'b': 1, 'c': 2}\n",
      "else 2 4\n",
      "{'a': 0, 'b': 1, 'c': 2}\n",
      "else 3 5\n",
      "{'a': 0, 'b': 1, 'c': 2}\n",
      "if 6\n",
      "{'a': 0, 'b': 1, 'c': 2, 'd': 6}\n"
     ]
    }
   ],
   "source": [
    "start=mresult=0\n",
    "store={}\n",
    "list1 = []\n",
    "string='abcabcd'\n",
    "for i in range(len(string)):\n",
    "    if string[i] not in store:  # checking the char is in dict\n",
    "        store[string[i]]=i\n",
    "        print('if',i)\n",
    "        #result = i-start+1                # if it is dict then \n",
    "        #mresult = max(result,mresult)\n",
    "\n",
    "    else:\n",
    "        start = store[string[i]]+1\n",
    "        list1.append(string[store[string[i]]:i+1])\n",
    "        print('else',start,i)\n",
    "    \n",
    "    print(store)\n",
    "#print(mresult)"
   ]
  },
  {
   "cell_type": "code",
   "execution_count": 21,
   "metadata": {},
   "outputs": [
    {
     "data": {
      "text/plain": [
       "['abca', 'bcab', 'cabc']"
      ]
     },
     "execution_count": 21,
     "metadata": {},
     "output_type": "execute_result"
    }
   ],
   "source": [
    "list1"
   ]
  },
  {
   "cell_type": "code",
   "execution_count": 19,
   "metadata": {},
   "outputs": [
    {
     "data": {
      "text/plain": [
       "'aviansj'"
      ]
     },
     "execution_count": 19,
     "metadata": {},
     "output_type": "execute_result"
    }
   ],
   "source": [
    "list2=['avi','manali','aviansj']\n",
    "max(list2,key=len)"
   ]
  },
  {
   "cell_type": "markdown",
   "metadata": {},
   "source": [
    "#### 4. Median of two sorted arrays\n",
    " Given two sorted arrays nums1 and nums2 of size m and n respectively, return the median of the two sorted arrays. The overall run time complexity should be O(log (m+n)).\n",
    "\n",
    ">> Example 1:\n",
    "\n",
    "*Input* : nums1 = [1,3], nums2 = [2]                               \n",
    "*Output*: 2.00000                         \n",
    "*Explanation* : merged array = [1,2,3] and median is 2."
   ]
  },
  {
   "cell_type": "code",
   "execution_count": 1,
   "metadata": {},
   "outputs": [],
   "source": [
    "# median of two sorted arrays\n",
    "def findMedianSortedArrays(nums1, nums2):\n",
    "    nums1.extend(nums2)\n",
    "    nums1.sort()\n",
    "    if len(nums1)%2==0:\n",
    "        return (nums1[len(nums1)//2]+nums1[len(nums1)//2-1])/2\n",
    "    else:\n",
    "        return nums1[len(nums1)//2]   # odd number n+1/2 the element is the median"
   ]
  },
  {
   "cell_type": "code",
   "execution_count": 2,
   "metadata": {},
   "outputs": [
    {
     "data": {
      "text/plain": [
       "4"
      ]
     },
     "execution_count": 2,
     "metadata": {},
     "output_type": "execute_result"
    }
   ],
   "source": [
    "arr1 = [1,4,6,8]\n",
    "arr2 = [2,3,5,7]\n",
    "findMedianSortedArrays(arr1,arr2)"
   ]
  },
  {
   "cell_type": "code",
   "execution_count": 1,
   "metadata": {},
   "outputs": [],
   "source": [
    "#Longest Palindromic Substring Solution\n"
   ]
  },
  {
   "cell_type": "code",
   "execution_count": 79,
   "metadata": {},
   "outputs": [],
   "source": [
    "\n",
    "def longestPalindrome( s: str) -> str:\n",
    "    store={}\n",
    "    str1=''\n",
    "    str2=s[:1]\n",
    "    for i in range(len(s)):\n",
    "        if s[i] not in store:\n",
    "            store[s[i]]=i\n",
    "            str1+=s[i]\n",
    "            print('if',i,str1)\n",
    "        else:\n",
    "            temp = str1+s[i]\n",
    "            if str1[-1]==s[i]:\n",
    "                str2=str1[-1]+s[i]\n",
    "            if temp==temp[::-1] and len(temp)>len(str2):\n",
    "                str2=temp\n",
    "                print('else',i,str2)\n",
    "            str1=s[i]\n",
    "    return str2\n",
    "    \n",
    "\n"
   ]
  },
  {
   "cell_type": "code",
   "execution_count": 80,
   "metadata": {},
   "outputs": [
    {
     "name": "stdout",
     "output_type": "stream",
     "text": [
      "if 0 c\n",
      "if 1 ca\n"
     ]
    },
    {
     "data": {
      "text/plain": [
       "'aa'"
      ]
     },
     "execution_count": 80,
     "metadata": {},
     "output_type": "execute_result"
    }
   ],
   "source": [
    "longestPalindrome('caaaaac')\n",
    "\n",
    "\n",
    "    "
   ]
  },
  {
   "cell_type": "code",
   "execution_count": 41,
   "metadata": {},
   "outputs": [
    {
     "data": {
      "text/plain": [
       "[1]"
      ]
     },
     "execution_count": 41,
     "metadata": {},
     "output_type": "execute_result"
    }
   ],
   "source": [
    "string = []\n",
    "\n",
    "[max(string,key=len) if string else 1]"
   ]
  },
  {
   "cell_type": "code",
   "execution_count": 46,
   "metadata": {},
   "outputs": [
    {
     "data": {
      "text/plain": [
       "'aacabdkacaa'"
      ]
     },
     "execution_count": 46,
     "metadata": {},
     "output_type": "execute_result"
    }
   ],
   "source": [
    "longestPalindrome(\"aacabdkacaa\")"
   ]
  },
  {
   "cell_type": "code",
   "execution_count": 13,
   "metadata": {},
   "outputs": [
    {
     "name": "stdout",
     "output_type": "stream",
     "text": [
      "if 0 c\n",
      "if 1 cb\n",
      "===== 3 bb\n",
      "if 4 cbd\n"
     ]
    }
   ],
   "source": [
    "s=\"cbbbd\"\n",
    "store={}\n",
    "str1=\"\"\n",
    "str2=\"a\"\n",
    "for i in range(len(s)):\n",
    "    if s[i] not in store:\n",
    "        store[s[i]]=i\n",
    "        str1+=s[i]\n",
    "        print('if',i,str1)\n",
    "    else:\n",
    "        temp = str1+s[i]\n",
    "        if str1[-1]==s[i] and s[i]!=s[i+1]:\n",
    "            str2=str1[-1]+s[i]\n",
    "            print(\"=====\",i,str2)\n",
    "        \n",
    "        elif temp==temp[::-1] and len(temp)>len(str2):\n",
    "            str2=temp\n",
    "            print('else',i,str2)\n",
    "        if str1[-1]!=s[i]:\n",
    "            str1=s[i]      \n",
    "\n"
   ]
  },
  {
   "cell_type": "code",
   "execution_count": 12,
   "metadata": {},
   "outputs": [
    {
     "data": {
      "text/plain": [
       "'bb'"
      ]
     },
     "execution_count": 12,
     "metadata": {},
     "output_type": "execute_result"
    }
   ],
   "source": [
    "str2 "
   ]
  },
  {
   "cell_type": "code",
   "execution_count": 56,
   "metadata": {},
   "outputs": [
    {
     "data": {
      "text/plain": [
       "True"
      ]
     },
     "execution_count": 56,
     "metadata": {},
     "output_type": "execute_result"
    }
   ],
   "source": [
    "str3='aba'\n",
    "str3==str3[::-1]"
   ]
  },
  {
   "cell_type": "code",
   "execution_count": 15,
   "metadata": {},
   "outputs": [
    {
     "ename": "SyntaxError",
     "evalue": "invalid syntax (<ipython-input-15-38cf39dd7ab5>, line 5)",
     "output_type": "error",
     "traceback": [
      "\u001b[1;36m  File \u001b[1;32m\"<ipython-input-15-38cf39dd7ab5>\"\u001b[1;36m, line \u001b[1;32m5\u001b[0m\n\u001b[1;33m    if s[i] not in str1\u001b[0m\n\u001b[1;37m                       ^\u001b[0m\n\u001b[1;31mSyntaxError\u001b[0m\u001b[1;31m:\u001b[0m invalid syntax\n"
     ]
    }
   ],
   "source": [
    "# cbbd\n",
    "s=\"cbbbd\"\n",
    "str1=\"\"\n",
    "for i in range(s):\n",
    "    if s[i] not in str1:\n",
    "        str1+=s[i]\n",
    "    else:\n",
    "        \n",
    "\n",
    "\n",
    "\n"
   ]
  },
  {
   "cell_type": "code",
   "execution_count": null,
   "metadata": {},
   "outputs": [],
   "source": []
  }
 ],
 "metadata": {
  "interpreter": {
   "hash": "9a2c2ef81291e3e3a506884a4f5c29791a7523fb6a6b9fdd4fd3297ed79291df"
  },
  "kernelspec": {
   "display_name": "Python 3.9.7 64-bit ('tf-gpu': conda)",
   "language": "python",
   "name": "python3"
  },
  "language_info": {
   "codemirror_mode": {
    "name": "ipython",
    "version": 3
   },
   "file_extension": ".py",
   "mimetype": "text/x-python",
   "name": "python",
   "nbconvert_exporter": "python",
   "pygments_lexer": "ipython3",
   "version": "3.8.5"
  },
  "orig_nbformat": 4
 },
 "nbformat": 4,
 "nbformat_minor": 2
}
