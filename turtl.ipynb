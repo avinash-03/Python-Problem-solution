{
 "cells": [
  {
   "cell_type": "code",
   "execution_count": 1,
   "metadata": {},
   "outputs": [],
   "source": [
    "# Import turtle package\n",
    "import turtle\n",
    "\n",
    "# Creating a turtle object(pen)\n",
    "pen = turtle.Turtle()\n",
    "\n",
    "# Defining a method to draw curve\n",
    "def curve():\n",
    "\tfor i in range(200):\n",
    "\n",
    "\t\t# Defining step by step curve motion\n",
    "\t\tpen.right(1)\n",
    "\t\tpen.forward(1)\n",
    "\n",
    "# Defining method to draw a full heart\n",
    "def heart():\n",
    "\n",
    "\t# Set the fill color to red\n",
    "\tpen.fillcolor('red')\n",
    "\n",
    "\t# Start filling the color\n",
    "\tpen.begin_fill()\n",
    "\n",
    "\t# Draw the left line\n",
    "\tpen.left(140)\n",
    "\tpen.forward(113)\n",
    "\n",
    "\t# Draw the left curve\n",
    "\tcurve()\n",
    "\tpen.left(120)\n",
    "\n",
    "\t# Draw the right curve\n",
    "\tcurve()\n",
    "\n",
    "\t# Draw the right line\n",
    "\tpen.forward(112)\n",
    "\n",
    "\t# Ending the filling of the color\n",
    "\tpen.end_fill()\n",
    "\n",
    "# Defining method to write text\n",
    "def txt():\n",
    "\n",
    "\t# Move turtle to air\n",
    "\tpen.up()\n",
    "\n",
    "\t# Move turtle to a given position\n",
    "\tpen.setpos(-68, 95)\n",
    "\n",
    "\t# Move the turtle to the ground\n",
    "\tpen.down()\n",
    "\n",
    "\t# Set the text color to lightgreen\n",
    "\tpen.color('lightgreen')\n",
    "\n",
    "\t# Write the specified text in\n",
    "\t# specified font style and size\n",
    "\tpen.write(\"Avi & Pooja\", font=(\n",
    "\t\"Verdana\", 12, \"bold\"))\n",
    "\n",
    "\n",
    "# Draw a heart\n",
    "heart()\n",
    "\n",
    "# Write text\n",
    "txt()\n",
    "\n",
    "# To hide turtle\n",
    "pen.ht()\n"
   ]
  },
  {
   "cell_type": "code",
   "execution_count": 2,
   "metadata": {},
   "outputs": [
    {
     "name": "stdout",
     "output_type": "stream",
     "text": [
      "517 ns ± 26.6 ns per loop (mean ± std. dev. of 7 runs, 1000000 loops each)\n"
     ]
    }
   ],
   "source": [
    "# single line of code\n",
    "%timeit nums = [x for x in range(10)]"
   ]
  },
  {
   "cell_type": "code",
   "execution_count": 8,
   "metadata": {},
   "outputs": [
    {
     "name": "stdout",
     "output_type": "stream",
     "text": [
      "685 ns ± 17.7 ns per loop (mean ± std. dev. of 7 runs, 1000000 loops each)\n"
     ]
    }
   ],
   "source": [
    "\n",
    "%%timeit\n",
    "nums=[]\n",
    "for x in range(10):\n",
    "    nums.append(x)"
   ]
  },
  {
   "cell_type": "code",
   "execution_count": 9,
   "metadata": {},
   "outputs": [],
   "source": [
    "import numpy as np"
   ]
  },
  {
   "cell_type": "code",
   "execution_count": 10,
   "metadata": {},
   "outputs": [
    {
     "name": "stdout",
     "output_type": "stream",
     "text": [
      "8.14 µs ± 176 ns per loop (mean ± std. dev. of 7 runs, 100000 loops each)\n"
     ]
    }
   ],
   "source": [
    "times = %timeit -o rand_num = np.random.rand(1000)"
   ]
  },
  {
   "cell_type": "code",
   "execution_count": 12,
   "metadata": {},
   "outputs": [
    {
     "data": {
      "text/plain": [
       "[7.891182000000185e-06,\n",
       " 8.4938870000002e-06,\n",
       " 8.106440000000248e-06,\n",
       " 8.222440000000119e-06,\n",
       " 8.03602000000012e-06,\n",
       " 8.167809999999918e-06,\n",
       " 8.041082999999958e-06]"
      ]
     },
     "execution_count": 12,
     "metadata": {},
     "output_type": "execute_result"
    }
   ],
   "source": [
    "times.timings"
   ]
  },
  {
   "cell_type": "code",
   "execution_count": 13,
   "metadata": {},
   "outputs": [
    {
     "data": {
      "text/plain": [
       "7.891182000000185e-06"
      ]
     },
     "execution_count": 13,
     "metadata": {},
     "output_type": "execute_result"
    }
   ],
   "source": [
    "times.best"
   ]
  },
  {
   "cell_type": "code",
   "execution_count": 14,
   "metadata": {},
   "outputs": [
    {
     "data": {
      "text/plain": [
       "8.4938870000002e-06"
      ]
     },
     "execution_count": 14,
     "metadata": {},
     "output_type": "execute_result"
    }
   ],
   "source": [
    "times.worst"
   ]
  },
  {
   "cell_type": "code",
   "execution_count": 15,
   "metadata": {},
   "outputs": [],
   "source": [
    "# compare the times"
   ]
  },
  {
   "cell_type": "code",
   "execution_count": 16,
   "metadata": {},
   "outputs": [],
   "source": [
    "formal_list = list()\n",
    "formal_tuple = tuple()\n",
    "formal_dict = dict()"
   ]
  },
  {
   "cell_type": "code",
   "execution_count": 18,
   "metadata": {},
   "outputs": [
    {
     "name": "stdout",
     "output_type": "stream",
     "text": [
      "88.7 ns ± 1.99 ns per loop (mean ± std. dev. of 7 runs, 10000000 loops each)\n"
     ]
    }
   ],
   "source": [
    "%%timeit \n",
    "formal_dict = dict()"
   ]
  },
  {
   "cell_type": "code",
   "execution_count": 22,
   "metadata": {},
   "outputs": [
    {
     "name": "stdout",
     "output_type": "stream",
     "text": [
      "24.2 ns ± 1.24 ns per loop (mean ± std. dev. of 7 runs, 10000000 loops each)\n"
     ]
    }
   ],
   "source": [
    "time_litral = %timeit -o literal_dict ={}"
   ]
  },
  {
   "cell_type": "code",
   "execution_count": 23,
   "metadata": {},
   "outputs": [
    {
     "name": "stdout",
     "output_type": "stream",
     "text": [
      "87.4 ns ± 0.805 ns per loop (mean ± std. dev. of 7 runs, 10000000 loops each)\n"
     ]
    }
   ],
   "source": [
    "time_formal = %timeit -o formal_dict =dict()"
   ]
  },
  {
   "cell_type": "code",
   "execution_count": 26,
   "metadata": {},
   "outputs": [
    {
     "data": {
      "text/plain": [
       "-24.21844848398358"
      ]
     },
     "execution_count": 26,
     "metadata": {},
     "output_type": "execute_result"
    }
   ],
   "source": [
    "time_formal.average-time_litral.average*(10**9)"
   ]
  },
  {
   "cell_type": "code",
   "execution_count": 29,
   "metadata": {},
   "outputs": [],
   "source": [
    "%load_ext line_profiler"
   ]
  },
  {
   "cell_type": "code",
   "execution_count": 42,
   "metadata": {},
   "outputs": [],
   "source": [
    "heros = ['Ironman', 'Spiderman', 'Superman', 'Batman']\n",
    "hts = np.array([188.0, 180.0, 195.0, 210.0])\n",
    "wts = np.array([75.0, 80.0, 75.0, 70.0])\n",
    "\n",
    "def convert_units(heros,heights,weights):\n",
    "    new_hts = [hts*0.3937 for hts in heights]\n",
    "    new_wts = [wts*2.2046 for wts in weights]\n",
    "\n",
    "    hero_data = {}\n",
    "    for i,hero in enumerate(heros):\n",
    "        hero_data[hero] = (new_hts[i],new_wts[i])\n",
    "    return hero_data"
   ]
  },
  {
   "cell_type": "code",
   "execution_count": 31,
   "metadata": {},
   "outputs": [
    {
     "data": {
      "text/plain": [
       "{'Ironman': (74.01559999999999, 165.345),\n",
       " 'Spiderman': (70.866, 176.368),\n",
       " 'Superman': (76.7715, 165.345),\n",
       " 'Batman': (82.67699999999999, 154.322)}"
      ]
     },
     "execution_count": 31,
     "metadata": {},
     "output_type": "execute_result"
    }
   ],
   "source": [
    "convert_units(heros,hts,wts)"
   ]
  },
  {
   "cell_type": "code",
   "execution_count": 32,
   "metadata": {},
   "outputs": [
    {
     "name": "stdout",
     "output_type": "stream",
     "text": [
      "Timer unit: 1e-07 s\n",
      "\n",
      "Total time: 5.2e-05 s\n",
      "File: C:\\Users\\AVINAS~1\\AppData\\Local\\Temp/ipykernel_16976/464341425.py\n",
      "Function: convert_units at line 5\n",
      "\n",
      "Line #      Hits         Time  Per Hit   % Time  Line Contents\n",
      "==============================================================\n",
      "     5                                           def convert_units(heros,heights,weights):\n",
      "     6         1        314.0    314.0     60.4      new_hts = [hts*0.3937 for hts in heights]\n",
      "     7         1         50.0     50.0      9.6      new_wts = [wts*2.2046 for wts in weights]\n",
      "     8                                           \n",
      "     9         1         13.0     13.0      2.5      hero_data = {}\n",
      "    10         5         81.0     16.2     15.6      for i,hero in enumerate(heros):\n",
      "    11         4         55.0     13.8     10.6          hero_data[hero] = (new_hts[i],new_wts[i])\n",
      "    12         1          7.0      7.0      1.3      return hero_data"
     ]
    }
   ],
   "source": [
    "%lprun -f convert_units convert_units(heros,hts,wts)"
   ]
  },
  {
   "cell_type": "code",
   "execution_count": 33,
   "metadata": {},
   "outputs": [],
   "source": [
    "import sys"
   ]
  },
  {
   "cell_type": "code",
   "execution_count": 34,
   "metadata": {},
   "outputs": [
    {
     "data": {
      "text/plain": [
       "8056"
      ]
     },
     "execution_count": 34,
     "metadata": {},
     "output_type": "execute_result"
    }
   ],
   "source": [
    "num_list = [*range(1000)]\n",
    "sys.getsizeof(num_list)\n"
   ]
  },
  {
   "cell_type": "code",
   "execution_count": 36,
   "metadata": {},
   "outputs": [
    {
     "data": {
      "text/plain": [
       "4104"
      ]
     },
     "execution_count": 36,
     "metadata": {},
     "output_type": "execute_result"
    }
   ],
   "source": [
    "import numpy as np \n",
    "\n",
    "nums_np = np.array(range(1000))\n",
    "sys.getsizeof(nums_np)"
   ]
  },
  {
   "cell_type": "code",
   "execution_count": 38,
   "metadata": {},
   "outputs": [],
   "source": [
    "#!pip install memory_profiler"
   ]
  },
  {
   "cell_type": "code",
   "execution_count": 3,
   "metadata": {},
   "outputs": [],
   "source": [
    "%load_ext memory_profiler\n",
    "\n"
   ]
  },
  {
   "cell_type": "code",
   "execution_count": 12,
   "metadata": {},
   "outputs": [],
   "source": [
    "from solution import Solution"
   ]
  },
  {
   "cell_type": "code",
   "execution_count": 13,
   "metadata": {},
   "outputs": [
    {
     "data": {
      "text/plain": [
       "'this is not armstrong number'"
      ]
     },
     "execution_count": 13,
     "metadata": {},
     "output_type": "execute_result"
    }
   ],
   "source": [
    "Solution.IsArmstrong(123)"
   ]
  },
  {
   "cell_type": "code",
   "execution_count": 14,
   "metadata": {},
   "outputs": [
    {
     "name": "stdout",
     "output_type": "stream",
     "text": [
      "\n"
     ]
    },
    {
     "name": "stdout",
     "output_type": "stream",
     "text": [
      "Filename: c:\\Users\\Avinash Godbole\\Desktop\\Programm File\\Problem solution\\solution.py\n",
      "\n",
      "Line #    Mem usage    Increment  Occurrences   Line Contents\n",
      "=============================================================\n",
      "     5     88.9 MiB     88.9 MiB           1       @staticmethod   \n",
      "     6                                             def IsArmstrong(number):\n",
      "     7     88.9 MiB      0.0 MiB           1           total=0\n",
      "     8     88.9 MiB      0.0 MiB           4           for i in str(number):\n",
      "     9     88.9 MiB      0.0 MiB           3               total+=(int(i))**3\n",
      "    10     88.9 MiB      0.0 MiB           1           if total==int(number):\n",
      "    11                                                     return 'This is armstrong number'\n",
      "    12                                                 else:\n",
      "    13     88.9 MiB      0.0 MiB           1               return 'this is not armstrong number'"
     ]
    }
   ],
   "source": [
    "%mprun -f Solution.IsArmstrong Solution.IsArmstrong(123)"
   ]
  },
  {
   "cell_type": "code",
   "execution_count": null,
   "metadata": {},
   "outputs": [],
   "source": []
  }
 ],
 "metadata": {
  "interpreter": {
   "hash": "9a2c2ef81291e3e3a506884a4f5c29791a7523fb6a6b9fdd4fd3297ed79291df"
  },
  "kernelspec": {
   "display_name": "Python 3.9.7 ('tf-gpu')",
   "language": "python",
   "name": "python3"
  },
  "language_info": {
   "codemirror_mode": {
    "name": "ipython",
    "version": 3
   },
   "file_extension": ".py",
   "mimetype": "text/x-python",
   "name": "python",
   "nbconvert_exporter": "python",
   "pygments_lexer": "ipython3",
   "version": "3.9.1"
  },
  "orig_nbformat": 4
 },
 "nbformat": 4,
 "nbformat_minor": 2
}
