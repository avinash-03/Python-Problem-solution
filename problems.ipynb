{
 "cells": [
  {
   "cell_type": "markdown",
   "metadata": {},
   "source": [
    "# 1-10 Problem\n",
    "- [jump to problem 2](#cell2)"
   ]
  },
  {
   "cell_type": "markdown",
   "metadata": {},
   "source": [
    "#### 1. Armstrong Number\n",
    "- `input:`371 (n=3)\n",
    " $$ 3^3 +7^3+1^3=27 +343+1 = 371  $$"
   ]
  },
  {
   "cell_type": "code",
   "execution_count": 4,
   "metadata": {},
   "outputs": [
    {
     "data": {
      "text/plain": [
       "'This is armstrong number'"
      ]
     },
     "execution_count": 4,
     "metadata": {},
     "output_type": "execute_result"
    }
   ],
   "source": [
    "def IsArmstrong(number):\n",
    "    total=0\n",
    "    for i in str(number):\n",
    "        total+=(int(i))**3\n",
    "    if total==int(number):\n",
    "        return 'This is armstrong number'\n",
    "    else:\n",
    "        return 'this is not armstrong number'\n",
    "\n",
    "#number = input('enter number')\n",
    "num=371\n",
    "IsArmstrong(num)"
   ]
  },
  {
   "cell_type": "code",
   "execution_count": 6,
   "metadata": {},
   "outputs": [
    {
     "name": "stdout",
     "output_type": "stream",
     "text": [
      "this is armstrong number\n"
     ]
    }
   ],
   "source": [
    "#number = int(input())\n",
    "sum=0\n",
    "temp = num\n",
    "while temp>0:\n",
    "    digit = temp %10\n",
    "    sum +=digit**3\n",
    "    temp//=10\n",
    "if sum==num:\n",
    "    print('this is armstrong number')\n",
    "else:\n",
    "    print('This is not armstrong number')\n"
   ]
  },
  {
   "cell_type": "code",
   "execution_count": 5,
   "metadata": {},
   "outputs": [
    {
     "data": {
      "text/plain": [
       "'this is Armstrong Number'"
      ]
     },
     "execution_count": 5,
     "metadata": {},
     "output_type": "execute_result"
    }
   ],
   "source": [
    "def IsArmStrong1(num):\n",
    "    list1=[int(i)**3 for i in str(num)]\n",
    "    if sum(list1)==num:\n",
    "        return 'this is Armstrong Number'\n",
    "    else:\n",
    "        return 'this is not Armstrong Number'\n",
    "    \n",
    "IsArmStrong1(371)"
   ]
  },
  {
   "cell_type": "markdown",
   "metadata": {},
   "source": [
    "<a id=\"cell2\"></a>\n",
    "#### 2. Palindrom Number\n",
    "101 reverse order also 101 "
   ]
  },
  {
   "cell_type": "code",
   "execution_count": 1,
   "metadata": {},
   "outputs": [
    {
     "name": "stdout",
     "output_type": "stream",
     "text": [
      "101 :this is palidrom number\n",
      "102 :this is not polidrom number\n",
      "202 :this is palidrom number\n",
      "303 :this is palidrom number\n",
      "404 :this is palidrom number\n",
      "777 :this is palidrom number\n"
     ]
    }
   ],
   "source": [
    "list1=[101,102,202,303,404,777]\n",
    "def IsPalidromNum(list1):\n",
    "    for i in list1:\n",
    "        if str(i)==str(i)[::-1]:\n",
    "            print(i,':this is palidrom number')\n",
    "        else:\n",
    "            print(i,\":this is not polidrom number\")\n",
    "\n",
    "IsPalidromNum(list1)"
   ]
  },
  {
   "cell_type": "code",
   "execution_count": 2,
   "metadata": {},
   "outputs": [
    {
     "data": {
      "text/plain": [
       "[True, False, True, True, True, True]"
      ]
     },
     "execution_count": 2,
     "metadata": {},
     "output_type": "execute_result"
    }
   ],
   "source": [
    "[str(i)==str(i)[::-1] for i in list1]"
   ]
  },
  {
   "cell_type": "markdown",
   "metadata": {},
   "source": [
    "#### 3. Given an array of integers nums, sort the array in increasing order based on the frequency of the values. If multiple values have the same frequency, sort them in decreasing order.\n"
   ]
  },
  {
   "cell_type": "markdown",
   "metadata": {},
   "source": [
    "- `Input:` nums = [1,1,2,2,2,3]\n",
    "- `Output:` [3,1,1,2,2,2]\n",
    "- `Explanation:` '3' has a frequency of 1, '1' has a frequency of 2, and '2' has a frequency of 3."
   ]
  },
  {
   "cell_type": "code",
   "execution_count": 4,
   "metadata": {},
   "outputs": [
    {
     "data": {
      "text/plain": [
       "[5, 5, 2, 2, 8, 8, 8, 6, 3, 3]"
      ]
     },
     "execution_count": 4,
     "metadata": {},
     "output_type": "execute_result"
    }
   ],
   "source": [
    "array = [5,2,2,8,5,6,8,8,3,3]\n",
    "b = sorted(array,key= lambda i:array.index(i)) # sorted based on index \n",
    "b"
   ]
  },
  {
   "cell_type": "code",
   "execution_count": 18,
   "metadata": {},
   "outputs": [
    {
     "name": "stdout",
     "output_type": "stream",
     "text": [
      "[5, 2, 2, 8, 5, 6, 8, 8, 3, 3]\n",
      "after sorted [2, 2, 3, 3, 5, 5, 6, 8, 8, 8]\n"
     ]
    },
    {
     "data": {
      "text/plain": [
       "[6, 2, 2, 3, 3, 5, 5, 8, 8, 8]"
      ]
     },
     "execution_count": 18,
     "metadata": {},
     "output_type": "execute_result"
    }
   ],
   "source": [
    "# sort arry based on freqeuncy and if same frquency then ascending order\n",
    "array = [5,2,2,8,5,6,8,8,3,3]\n",
    "print(array)\n",
    "\n",
    "array=sorted(array)\n",
    "print('after sorted',array)\n",
    "c= sorted(array,key = lambda i:array.count(i)) \n",
    "c"
   ]
  },
  {
   "cell_type": "code",
   "execution_count": 19,
   "metadata": {},
   "outputs": [
    {
     "data": {
      "text/plain": [
       "[6, 5, 5, 3, 3, 2, 2, 8, 8, 8]"
      ]
     },
     "execution_count": 19,
     "metadata": {},
     "output_type": "execute_result"
    }
   ],
   "source": [
    "# sorted based on occurance ascending and if frequency same then decresing order \n",
    "array = [5,2,2,8,5,6,8,8,3,3]\n",
    "array=sorted(array,reverse=True)\n",
    "c= sorted(array,key = lambda i:array.count(i)) \n",
    "c\n"
   ]
  },
  {
   "cell_type": "code",
   "execution_count": 21,
   "metadata": {},
   "outputs": [
    {
     "data": {
      "text/plain": [
       "[8, 8, 8, 5, 5, 3, 3, 2, 2, 6]"
      ]
     },
     "execution_count": 21,
     "metadata": {},
     "output_type": "execute_result"
    }
   ],
   "source": [
    "# sorted based on occurance descending and if frequency same then decresing order \n",
    "array = [5,2,2,8,5,6,8,8,3,3]\n",
    "array=sorted(array,reverse=True)\n",
    "c= sorted(array,key = lambda i:array.count(i),reverse=True) \n",
    "c"
   ]
  },
  {
   "cell_type": "code",
   "execution_count": 25,
   "metadata": {},
   "outputs": [
    {
     "data": {
      "text/plain": [
       "[8, 8, 8, 2, 2, 3, 3, 5, 5, 6]"
      ]
     },
     "execution_count": 25,
     "metadata": {},
     "output_type": "execute_result"
    }
   ],
   "source": [
    "# sorted based on occurance descending and if frequency same then  order increasing order\n",
    "array = [5,2,2,8,5,6,8,8,3,3]\n",
    "array=sorted(array)\n",
    "c= sorted(array,key = lambda i:array.count(i),reverse=True) \n",
    "c"
   ]
  },
  {
   "cell_type": "code",
   "execution_count": 16,
   "metadata": {},
   "outputs": [],
   "source": [
    "# fucnciton for give list of sorted array on frequency basis\n",
    "def frequencySort(nums):\n",
    "    nums.sort(reverse=True)\n",
    "    return sorted(nums,key=nums.count,reverse=True)"
   ]
  },
  {
   "cell_type": "code",
   "execution_count": 1,
   "metadata": {},
   "outputs": [],
   "source": [
    "def frequencySort(nums):\n",
    "    nums.sort()\n",
    "    list1= sorted(nums,key=nums.count,reverse=True)\n",
    "    list2=[]\n",
    "    for i in list1:\n",
    "        if i not in list2:\n",
    "            list2.append(i)\n",
    "\n",
    "    return list2"
   ]
  },
  {
   "cell_type": "markdown",
   "metadata": {},
   "source": [
    "#### Merge Sort Function"
   ]
  },
  {
   "cell_type": "code",
   "execution_count": 5,
   "metadata": {},
   "outputs": [
    {
     "name": "stdout",
     "output_type": "stream",
     "text": [
      "[0, 1, 2, 3, 4, 5, 6, 7, 8, 9]\n"
     ]
    }
   ],
   "source": [
    "def merge_sort(data):\n",
    "    if len(data) <= 1:\n",
    "        return\n",
    "    \n",
    "    mid = len(data) // 2\n",
    "    left_data = data[:mid]\n",
    "    right_data = data[mid:]\n",
    "    \n",
    "    merge_sort(left_data)\n",
    "    merge_sort(right_data)\n",
    "    \n",
    "    left_index = 0\n",
    "    right_index = 0\n",
    "    data_index = 0\n",
    "    \n",
    "    while left_index < len(left_data) and right_index < len(right_data):\n",
    "        if left_data[left_index] < right_data[right_index]:\n",
    "            data[data_index] = left_data[left_index]\n",
    "            left_index += 1\n",
    "        else:\n",
    "            data[data_index] = right_data[right_index]\n",
    "            right_index += 1\n",
    "        data_index += 1\n",
    "    \n",
    "    if left_index < len(left_data):\n",
    "        del data[data_index:]\n",
    "        data += left_data[left_index:]\n",
    "    elif right_index < len(right_data):\n",
    "        del data[data_index:]\n",
    "        data += right_data[right_index:]\n",
    "    \n",
    "if __name__ == '__main__':\n",
    "    data = [9, 1, 7, 6, 2, 8, 5, 3, 4, 0]\n",
    "    merge_sort(data)\n",
    "    print(data)"
   ]
  },
  {
   "cell_type": "markdown",
   "metadata": {},
   "source": [
    "#### 4.\n",
    "This is what the instructions are telling me to do... main – This function is the main routine. It should do the following: Ask the user how many dice they want to roll. If the user enters a number less than 1 or greater than 10, the program should continue to ask the user for a valid number between 1 and 10. Remember you can use a while loop to do input validation. Once the program has a valid number from the user, it should use that number as an argument when calling the roll_dice function.\n",
    "\n",
    "roll_dice – This function has one parameter, num_dice, which is the number of dice to roll. Since the program will be displaying the total of the dice, start by initializing a variable to 0 which will keep a running total. Use a for loop to roll each die the number of times specified. Use the randint function from the random module to get a random digit between 1 and 6 inclusive. Print the number of the loop iteration and the die value as indicated in the Sample Output. Make sure to update the running total INSIDE the for loop. After the for loop is complete, print the total value of all the dice that were rolled.\n",
    "\n",
    "And this is the code I have so far:"
   ]
  },
  {
   "cell_type": "code",
   "execution_count": 6,
   "metadata": {},
   "outputs": [
    {
     "data": {
      "text/plain": [
       "23"
      ]
     },
     "execution_count": 6,
     "metadata": {},
     "output_type": "execute_result"
    }
   ],
   "source": [
    "# roll 6 dice function\n",
    "import random\n",
    "def roll_dice(n=2):\n",
    "    total = 0\n",
    "    for _ in range(n):\n",
    "        total += random.randint(1, 6)\n",
    "    return total\n",
    "\n",
    "roll_dice(6)"
   ]
  },
  {
   "cell_type": "code",
   "execution_count": 5,
   "metadata": {},
   "outputs": [],
   "source": [
    "def roll_dice(num_dice):\n",
    "    rolls = 0\n",
    "    for i in range(num_dice):\n",
    "        out_ran_num =   random.randint(1, 6)\n",
    "        print(f\"The random number for {i+1} roll is:{out_ran_num}\")\n",
    "        rolls+=out_ran_num\n",
    "    return rolls\n",
    "\n",
    "def main():\n",
    "    num_dice = int(input('How many dice do you want to roll?'))\n",
    "    while num_dice < 1 or num_dice > 10:\n",
    "        print('Enter a number between 1 and 10.')\n",
    "        num_dice = int(input('How many dice do you want to roll?'))\n",
    "    return roll_dice(num_dice)\n"
   ]
  },
  {
   "cell_type": "code",
   "execution_count": 25,
   "metadata": {},
   "outputs": [
    {
     "name": "stdout",
     "output_type": "stream",
     "text": [
      "The random number for 1 roll is:2\n",
      "The random number for 2 roll is:5\n",
      "The random number for 3 roll is:1\n",
      "The random number for 4 roll is:5\n",
      "The random number for 5 roll is:5\n",
      "The random number for 6 roll is:2\n"
     ]
    },
    {
     "data": {
      "text/plain": [
       "20"
      ]
     },
     "execution_count": 25,
     "metadata": {},
     "output_type": "execute_result"
    }
   ],
   "source": [
    "main()"
   ]
  },
  {
   "cell_type": "code",
   "execution_count": 26,
   "metadata": {},
   "outputs": [],
   "source": [
    "# 5. check if number is squre or not (don't use sqrt builtin function)\n",
    "def perfect_squre(n):\n",
    "    if int(n)!=n:\n",
    "        return False\n",
    "    if n<0:\n",
    "        return False \n",
    "    l=0\n",
    "    r=n\n",
    "\n",
    "    while l<=r:\n",
    "        m = (l+r)//2\n",
    "        if m*m <n:\n",
    "            l=m+1\n",
    "        elif m*m >n:\n",
    "            r=m-1\n",
    "        else:\n",
    "            return True\n",
    "    return False\n"
   ]
  },
  {
   "cell_type": "code",
   "execution_count": 33,
   "metadata": {},
   "outputs": [
    {
     "data": {
      "text/plain": [
       "True"
      ]
     },
     "execution_count": 33,
     "metadata": {},
     "output_type": "execute_result"
    }
   ],
   "source": []
  },
  {
   "cell_type": "code",
   "execution_count": null,
   "metadata": {},
   "outputs": [],
   "source": []
  }
 ],
 "metadata": {
  "interpreter": {
   "hash": "9a2c2ef81291e3e3a506884a4f5c29791a7523fb6a6b9fdd4fd3297ed79291df"
  },
  "kernelspec": {
   "display_name": "Python 3.9.7 64-bit ('tf-gpu': conda)",
   "language": "python",
   "name": "python3"
  },
  "language_info": {
   "codemirror_mode": {
    "name": "ipython",
    "version": 3
   },
   "file_extension": ".py",
   "mimetype": "text/x-python",
   "name": "python",
   "nbconvert_exporter": "python",
   "pygments_lexer": "ipython3",
   "version": "3.9.7"
  },
  "orig_nbformat": 4
 },
 "nbformat": 4,
 "nbformat_minor": 2
}
