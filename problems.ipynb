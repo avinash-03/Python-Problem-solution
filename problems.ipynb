{
 "cells": [
  {
   "cell_type": "markdown",
   "metadata": {},
   "source": [
    "# 1-10 Problem\n",
    "- [jump to problem 2](#cell2)"
   ]
  },
  {
   "cell_type": "markdown",
   "metadata": {},
   "source": [
    "## 1. Armstrong Number\n",
    "- `input:`371 (n=3)\n",
    " $$ 3^3 +7^3+1^3=27 +343+1 = 371  $$"
   ]
  },
  {
   "cell_type": "code",
   "execution_count": 4,
   "metadata": {},
   "outputs": [
    {
     "data": {
      "text/plain": [
       "'This is armstrong number'"
      ]
     },
     "execution_count": 4,
     "metadata": {},
     "output_type": "execute_result"
    }
   ],
   "source": [
    "def IsArmstrong(number):\n",
    "    total=0\n",
    "    for i in str(number):\n",
    "        total+=(int(i))**3\n",
    "    if total==int(number):\n",
    "        return 'This is armstrong number'\n",
    "    else:\n",
    "        return 'this is not armstrong number'\n",
    "\n",
    "#number = input('enter number')\n",
    "num=371\n",
    "IsArmstrong(num)"
   ]
  },
  {
   "cell_type": "code",
   "execution_count": 6,
   "metadata": {},
   "outputs": [
    {
     "name": "stdout",
     "output_type": "stream",
     "text": [
      "this is armstrong number\n"
     ]
    }
   ],
   "source": [
    "#number = int(input())\n",
    "sum=0\n",
    "temp = num\n",
    "while temp>0:\n",
    "    digit = temp %10\n",
    "    sum +=digit**3\n",
    "    temp//=10\n",
    "if sum==num:\n",
    "    print('this is armstrong number')\n",
    "else:\n",
    "    print('This is not armstrong number')\n"
   ]
  },
  {
   "cell_type": "code",
   "execution_count": 5,
   "metadata": {},
   "outputs": [
    {
     "data": {
      "text/plain": [
       "'this is Armstrong Number'"
      ]
     },
     "execution_count": 5,
     "metadata": {},
     "output_type": "execute_result"
    }
   ],
   "source": [
    "def IsArmStrong1(num):\n",
    "    list1=[int(i)**3 for i in str(num)]\n",
    "    if sum(list1)==num:\n",
    "        return 'this is Armstrong Number'\n",
    "    else:\n",
    "        return 'this is not Armstrong Number'\n",
    "    \n",
    "IsArmStrong1(371)"
   ]
  },
  {
   "cell_type": "code",
   "execution_count": 2,
   "metadata": {},
   "outputs": [
    {
     "data": {
      "text/plain": [
       "92"
      ]
     },
     "execution_count": 2,
     "metadata": {},
     "output_type": "execute_result"
    }
   ],
   "source": [
    "li=[1,24,67]\n",
    "sum(li)"
   ]
  },
  {
   "cell_type": "code",
   "execution_count": 3,
   "metadata": {},
   "outputs": [
    {
     "name": "stdout",
     "output_type": "stream",
     "text": [
      "25\n"
     ]
    }
   ],
   "source": [
    "   \n",
    "numbers = [1,2,3,4,5,1,4,5]\n",
    "  \n",
    "# start parameter is not provided\n",
    "Sum = sum(numbers)\n",
    "print(Sum)"
   ]
  },
  {
   "cell_type": "markdown",
   "metadata": {},
   "source": [
    "<a id=\"cell2\"></a>\n",
    "## 2. Palindrom Number\n",
    "101 reverse order also 101 "
   ]
  },
  {
   "cell_type": "code",
   "execution_count": 9,
   "metadata": {},
   "outputs": [
    {
     "name": "stdout",
     "output_type": "stream",
     "text": [
      "101 :this is palidrom number\n",
      "102 :this is not polidrom number\n",
      "202 :this is palidrom number\n",
      "303 :this is palidrom number\n",
      "404 :this is palidrom number\n",
      "777 :this is palidrom number\n"
     ]
    }
   ],
   "source": [
    "list1=[101,102,202,303,404,777]\n",
    "def IsPalidromNum(list1):\n",
    "    for i in list1:\n",
    "        if str(i)==str(i)[::-1]:\n",
    "            print(i,':this is palidrom number')\n",
    "        else:\n",
    "            print(i,\":this is not polidrom number\")\n",
    "\n",
    "IsPalidromNum(list1)"
   ]
  },
  {
   "cell_type": "code",
   "execution_count": 26,
   "metadata": {},
   "outputs": [
    {
     "data": {
      "text/plain": [
       "'987'"
      ]
     },
     "execution_count": 26,
     "metadata": {},
     "output_type": "execute_result"
    }
   ],
   "source": [
    "i=789\n",
    "str(i)[::-1]\n"
   ]
  },
  {
   "cell_type": "code",
   "execution_count": 24,
   "metadata": {},
   "outputs": [
    {
     "data": {
      "text/plain": [
       "'This is armstrong number'"
      ]
     },
     "execution_count": 24,
     "metadata": {},
     "output_type": "execute_result"
    }
   ],
   "source": []
  },
  {
   "cell_type": "code",
   "execution_count": null,
   "metadata": {},
   "outputs": [],
   "source": []
  },
  {
   "cell_type": "code",
   "execution_count": null,
   "metadata": {},
   "outputs": [],
   "source": []
  }
 ],
 "metadata": {
  "interpreter": {
   "hash": "9a2c2ef81291e3e3a506884a4f5c29791a7523fb6a6b9fdd4fd3297ed79291df"
  },
  "kernelspec": {
   "display_name": "Python 3.9.7 64-bit ('tf-gpu': conda)",
   "language": "python",
   "name": "python3"
  },
  "language_info": {
   "codemirror_mode": {
    "name": "ipython",
    "version": 3
   },
   "file_extension": ".py",
   "mimetype": "text/x-python",
   "name": "python",
   "nbconvert_exporter": "python",
   "pygments_lexer": "ipython3",
   "version": "3.9.7"
  },
  "orig_nbformat": 4
 },
 "nbformat": 4,
 "nbformat_minor": 2
}
