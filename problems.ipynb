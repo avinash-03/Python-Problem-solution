{
 "cells": [
  {
   "cell_type": "markdown",
   "metadata": {},
   "source": [
    "# 1-10 Problem\n",
    "- [jump to problem 2](#cell2)"
   ]
  },
  {
   "cell_type": "markdown",
   "metadata": {},
   "source": [
    "#### 1. Armstrong Number\n",
    "- `input:`371 (n=3)\n",
    " $$ 3^3 +7^3+1^3=27 +343+1 = 371  $$"
   ]
  },
  {
   "cell_type": "code",
   "execution_count": 4,
   "metadata": {},
   "outputs": [
    {
     "data": {
      "text/plain": [
       "'This is armstrong number'"
      ]
     },
     "execution_count": 4,
     "metadata": {},
     "output_type": "execute_result"
    }
   ],
   "source": [
    "def IsArmstrong(number):\n",
    "    total=0\n",
    "    for i in str(number):\n",
    "        total+=(int(i))**3\n",
    "    if total==int(number):\n",
    "        return 'This is armstrong number'\n",
    "    else:\n",
    "        return 'this is not armstrong number'\n",
    "\n",
    "#number = input('enter number')\n",
    "num=371\n",
    "IsArmstrong(num)"
   ]
  },
  {
   "cell_type": "code",
   "execution_count": 6,
   "metadata": {},
   "outputs": [
    {
     "name": "stdout",
     "output_type": "stream",
     "text": [
      "this is armstrong number\n"
     ]
    }
   ],
   "source": [
    "#number = int(input())\n",
    "sum=0\n",
    "temp = num\n",
    "while temp>0:\n",
    "    digit = temp %10\n",
    "    sum +=digit**3\n",
    "    temp//=10\n",
    "if sum==num:\n",
    "    print('this is armstrong number')\n",
    "else:\n",
    "    print('This is not armstrong number')\n"
   ]
  },
  {
   "cell_type": "code",
   "execution_count": 5,
   "metadata": {},
   "outputs": [
    {
     "data": {
      "text/plain": [
       "'this is Armstrong Number'"
      ]
     },
     "execution_count": 5,
     "metadata": {},
     "output_type": "execute_result"
    }
   ],
   "source": [
    "def IsArmStrong1(num):\n",
    "    list1=[int(i)**3 for i in str(num)]\n",
    "    if sum(list1)==num:\n",
    "        return 'this is Armstrong Number'\n",
    "    else:\n",
    "        return 'this is not Armstrong Number'\n",
    "    \n",
    "IsArmStrong1(371)"
   ]
  },
  {
   "cell_type": "code",
   "execution_count": 2,
   "metadata": {},
   "outputs": [
    {
     "data": {
      "text/plain": [
       "92"
      ]
     },
     "execution_count": 2,
     "metadata": {},
     "output_type": "execute_result"
    }
   ],
   "source": [
    "li=[1,24,67]\n",
    "sum(li)"
   ]
  },
  {
   "cell_type": "code",
   "execution_count": 3,
   "metadata": {},
   "outputs": [
    {
     "name": "stdout",
     "output_type": "stream",
     "text": [
      "25\n"
     ]
    }
   ],
   "source": [
    "   \n",
    "numbers = [1,2,3,4,5,1,4,5]\n",
    "  \n",
    "# start parameter is not provided\n",
    "Sum = sum(numbers)\n",
    "print(Sum)"
   ]
  },
  {
   "cell_type": "markdown",
   "metadata": {},
   "source": [
    "<a id=\"cell2\"></a>\n",
    "#### 2. Palindrom Number\n",
    "101 reverse order also 101 "
   ]
  },
  {
   "cell_type": "code",
   "execution_count": 9,
   "metadata": {},
   "outputs": [
    {
     "name": "stdout",
     "output_type": "stream",
     "text": [
      "101 :this is palidrom number\n",
      "102 :this is not polidrom number\n",
      "202 :this is palidrom number\n",
      "303 :this is palidrom number\n",
      "404 :this is palidrom number\n",
      "777 :this is palidrom number\n"
     ]
    }
   ],
   "source": [
    "list1=[101,102,202,303,404,777]\n",
    "def IsPalidromNum(list1):\n",
    "    for i in list1:\n",
    "        if str(i)==str(i)[::-1]:\n",
    "            print(i,':this is palidrom number')\n",
    "        else:\n",
    "            print(i,\":this is not polidrom number\")\n",
    "\n",
    "IsPalidromNum(list1)"
   ]
  },
  {
   "cell_type": "markdown",
   "metadata": {},
   "source": [
    "#### 3. Given an array of integers nums, sort the array in increasing order based on the frequency of the values. If multiple values have the same frequency, sort them in decreasing order.\n"
   ]
  },
  {
   "cell_type": "markdown",
   "metadata": {},
   "source": [
    "- `Input:` nums = [1,1,2,2,2,3]\n",
    "- `Output:` [3,1,1,2,2,2]\n",
    "- `Explanation:` '3' has a frequency of 1, '1' has a frequency of 2, and '2' has a frequency of 3."
   ]
  },
  {
   "cell_type": "code",
   "execution_count": 2,
   "metadata": {},
   "outputs": [
    {
     "data": {
      "text/plain": [
       "[5, 5, 2, 2, 8, 8, 8, 6, 3, 3]"
      ]
     },
     "execution_count": 2,
     "metadata": {},
     "output_type": "execute_result"
    }
   ],
   "source": [
    "a = [5,2,2,8,5,6,8,8,3,3]\n",
    "b = sorted(a,key= lambda i:a.index(i))\n",
    "b"
   ]
  },
  {
   "cell_type": "code",
   "execution_count": 4,
   "metadata": {},
   "outputs": [
    {
     "data": {
      "text/plain": [
       "[8, 8, 8, 5, 5, 2, 2, 3, 3, 6]"
      ]
     },
     "execution_count": 4,
     "metadata": {},
     "output_type": "execute_result"
    }
   ],
   "source": [
    "c= sorted(b,key = lambda i:b.count(i),reverse=True)\n",
    "c"
   ]
  },
  {
   "cell_type": "code",
   "execution_count": 16,
   "metadata": {},
   "outputs": [],
   "source": [
    "# fucnciton for give list of sorted array on frequency basis\n",
    "def frequencySort(nums):\n",
    "    nums.sort(reverse=True)\n",
    "    return sorted(nums,key=nums.count,reverse=True)"
   ]
  },
  {
   "cell_type": "code",
   "execution_count": 5,
   "metadata": {},
   "outputs": [
    {
     "data": {
      "text/plain": [
       "[1, 1, 2, 3, 3, 3, 4, 5]"
      ]
     },
     "execution_count": 5,
     "metadata": {},
     "output_type": "execute_result"
    }
   ],
   "source": [
    "arr=[1,2,3,1,3,4,5,3]\n",
    "arr.sort()\n",
    "arr"
   ]
  },
  {
   "cell_type": "code",
   "execution_count": null,
   "metadata": {},
   "outputs": [
    {
     "data": {
      "text/plain": [
       "[3, 3, 3, 1, 1, 2, 4, 5]"
      ]
     },
     "metadata": {},
     "output_type": "display_data"
    }
   ],
   "source": [
    "sorted(arr,key=arr.count,reverse=True)"
   ]
  },
  {
   "cell_type": "code",
   "execution_count": 15,
   "metadata": {},
   "outputs": [],
   "source": [
    "list2=[]\n",
    "for i in list1:\n",
    "    if i not in list2:\n",
    "        list2.append(i)"
   ]
  },
  {
   "cell_type": "code",
   "execution_count": 16,
   "metadata": {},
   "outputs": [
    {
     "data": {
      "text/plain": [
       "[3, 1, 2, 4, 5]"
      ]
     },
     "execution_count": 16,
     "metadata": {},
     "output_type": "execute_result"
    }
   ],
   "source": [
    "list2"
   ]
  },
  {
   "cell_type": "code",
   "execution_count": 1,
   "metadata": {},
   "outputs": [],
   "source": [
    "def frequencySort(nums):\n",
    "    nums.sort()\n",
    "    list1= sorted(nums,key=nums.count,reverse=True)\n",
    "    list2=[]\n",
    "    for i in list1:\n",
    "        if i not in list2:\n",
    "            list2.append(i)\n",
    "\n",
    "    return list2"
   ]
  },
  {
   "cell_type": "code",
   "execution_count": 18,
   "metadata": {},
   "outputs": [
    {
     "data": {
      "text/plain": [
       "[3, 1, 2, 4, 5]"
      ]
     },
     "execution_count": 18,
     "metadata": {},
     "output_type": "execute_result"
    }
   ],
   "source": []
  },
  {
   "cell_type": "code",
   "execution_count": null,
   "metadata": {},
   "outputs": [],
   "source": []
  },
  {
   "cell_type": "code",
   "execution_count": null,
   "metadata": {},
   "outputs": [],
   "source": []
  },
  {
   "cell_type": "code",
   "execution_count": null,
   "metadata": {},
   "outputs": [],
   "source": []
  }
 ],
 "metadata": {
  "interpreter": {
   "hash": "9a2c2ef81291e3e3a506884a4f5c29791a7523fb6a6b9fdd4fd3297ed79291df"
  },
  "kernelspec": {
   "display_name": "Python 3.9.7 64-bit ('tf-gpu': conda)",
   "language": "python",
   "name": "python3"
  },
  "language_info": {
   "codemirror_mode": {
    "name": "ipython",
    "version": 3
   },
   "file_extension": ".py",
   "mimetype": "text/x-python",
   "name": "python",
   "nbconvert_exporter": "python",
   "pygments_lexer": "ipython3",
   "version": "3.9.7"
  },
  "orig_nbformat": 4
 },
 "nbformat": 4,
 "nbformat_minor": 2
}
